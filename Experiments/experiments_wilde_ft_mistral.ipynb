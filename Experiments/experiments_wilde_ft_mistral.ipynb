{
  "cells": [
    {
      "cell_type": "markdown",
      "metadata": {
        "id": "view-in-github",
        "colab_type": "text"
      },
      "source": [
        "<a href=\"https://colab.research.google.com/github/jlopetegui98/Literary-Fine-Tuning-of-LLM/blob/main/Experiments/experiments_wilde_ft_mistral.ipynb\" target=\"_parent\"><img src=\"https://colab.research.google.com/assets/colab-badge.svg\" alt=\"Open In Colab\"/></a>"
      ]
    },
    {
      "cell_type": "markdown",
      "metadata": {
        "id": "bTq0UlS2WVc-"
      },
      "source": [
        "### Experiments with the Mistral 7B fine tuned model with Oscar Wilde texts"
      ]
    },
    {
      "cell_type": "code",
      "execution_count": null,
      "metadata": {
        "id": "f3YHNfvIWVdA",
        "outputId": "91d6554d-e2de-471e-fdf0-59d94410e940"
      },
      "outputs": [
        {
          "name": "stdout",
          "output_type": "stream",
          "text": [
            "Experiments\n"
          ]
        }
      ],
      "source": [
        "from google.colab import drive\n",
        "drive.mount('/content/drive')"
      ]
    },
    {
      "cell_type": "code",
      "source": [
        "!pip install -U simpletransformers\n",
        "!pip install -q -U bitsandbytes\n",
        "!pip install -q -U git+https://github.com/huggingface/transformers.git\n",
        "!pip install -q -U git+https://github.com/huggingface/peft.git\n",
        "!pip install -q -U git+https://github.com/huggingface/accelerate.git\n",
        "!pip install -q trl xformers wandb datasets einops gradio sentencepiece"
      ],
      "metadata": {
        "id": "B9LxKZ0XWY8M"
      },
      "execution_count": null,
      "outputs": []
    },
    {
      "cell_type": "code",
      "source": [
        "import torch\n",
        "import simpletransformers\n",
        "import transformers\n",
        "from transformers import AutoModelForCausalLM, AutoTokenizer, BitsAndBytesConfig,HfArgumentParser,TrainingArguments,pipeline, logging, TextStreamer\n",
        "from peft import LoraConfig, PeftModel, prepare_model_for_kbit_training, get_peft_model\n",
        "import os, wandb, platform, gradio, warnings\n",
        "from datasets import load_dataset\n",
        "from torch.utils.data import DataLoader, Dataset\n",
        "from trl import SFTTrainer\n",
        "from huggingface_hub import notebook_login\n",
        "import json\n",
        "from tqdm import tqdm"
      ],
      "metadata": {
        "id": "YnHPhoa7Wds-"
      },
      "execution_count": null,
      "outputs": []
    },
    {
      "cell_type": "code",
      "source": [
        "# data and models paths\n",
        "dir_root = './drive/MyDrive/DL-ENS'\n",
        "dir_data = f'{dir_root}/dataset'\n",
        "clf_path = f'{dir_root}/models/BertClassifier(BERTAA)_balanced_data.pt'\n",
        "list_to_generate_path = f'{dir_data}/story_prompts.txt'\n",
        "ft_model = f'{dir_root}/models/ModelFineTuned.pt'"
      ],
      "metadata": {
        "id": "DWxaFnJoWgmq"
      },
      "execution_count": null,
      "outputs": []
    },
    {
      "cell_type": "code",
      "source": [
        "# load classifier (wilde vs kipling)\n",
        "clf = torch.load(clf_path)\n",
        "clf"
      ],
      "metadata": {
        "id": "_oJDUwUSWjtX"
      },
      "execution_count": null,
      "outputs": []
    },
    {
      "cell_type": "code",
      "source": [
        "#base model\n",
        "model_name = \"mistralai/Mistral-7B-Instruct-v0.1\""
      ],
      "metadata": {
        "id": "KeywQA4YW07c"
      },
      "execution_count": null,
      "outputs": []
    },
    {
      "cell_type": "code",
      "source": [
        "# Load the model\n",
        "model = torch.load(ft_model)\n",
        "\n",
        "# Load tokenizer\n",
        "tokenizer = AutoTokenizer.from_pretrained(model_name, trust_remote_code=True)\n",
        "tokenizer.padding_side = 'left'\n",
        "tokenizer.pad_token = tokenizer.eos_token\n",
        "tokenizer.add_eos_token = True\n",
        "tokenizer.add_bos_token, tokenizer.add_eos_token"
      ],
      "metadata": {
        "id": "wpfEKRm7W3WI"
      },
      "execution_count": null,
      "outputs": []
    },
    {
      "cell_type": "code",
      "source": [
        "# function to tokenize the input in the expected form of the prompt\n",
        "def tokenize(tokenizer, text):\n",
        "  return tokenizer(f\"<s>[INST]This are the first lines of a work of fiction. Continue it. {text} [/INST]\", return_tensors = \"pt\", add_special_tokens = False)"
      ],
      "metadata": {
        "id": "Z-Exu-4sW8Zf"
      },
      "execution_count": null,
      "outputs": []
    },
    {
      "cell_type": "code",
      "source": [
        "# main function for experiments\n",
        "def clf_exp(model, tokenizer, clf, texts):\n",
        "  device = torch.device(\"cuda:0\" if torch.cuda.is_available() else \"cpu\")\n",
        "\n",
        "  generated_texts = []\n",
        "  label_predictions = []\n",
        "  for input in tqdm(texts):\n",
        "    tokens = tokenize(tokenizer, input)\n",
        "    model_inputs = tokens.to(device)\n",
        "    generated_ids = model.generate(**model_inputs, max_new_tokens=500, do_sample=True)\n",
        "    decoded = tokenizer.batch_decode(generated_ids)\n",
        "    preds, _ = clf.predict(decoded)\n",
        "    label_predictions.extend(preds)\n",
        "    generated_texts.extend(decoded)\n",
        "    del model_inputs\n",
        "    del decoded\n",
        "    del generated_ids\n",
        "  return label_predictions, generated_texts"
      ],
      "metadata": {
        "id": "TyB5sAUOXDY3"
      },
      "execution_count": null,
      "outputs": []
    },
    {
      "cell_type": "code",
      "source": [
        "texts = []\n",
        "with open(list_to_generate_path, 'r+', encoding='utf-8') as fd:\n",
        "  texts = fd.readlines()\n",
        "texts = [text[:-1] for text in texts]"
      ],
      "metadata": {
        "id": "WUp64hYhXO3u"
      },
      "execution_count": null,
      "outputs": []
    },
    {
      "cell_type": "code",
      "source": [
        "# predict author for each input prompt\n",
        "author_preds, generated_texts = clf_exp(model, tokenizer, clf, texts)"
      ],
      "metadata": {
        "id": "-059mjPHYmjh"
      },
      "execution_count": null,
      "outputs": []
    },
    {
      "cell_type": "code",
      "source": [
        "# function to save the results\n",
        "def save_generated_texts_and_labels(texts, labels, model = 'baseline'):\n",
        "  dict_text_to_author = {'text': [], 'label': []}\n",
        "\n",
        "  for i in range(len(texts)):\n",
        "    dict_text_to_author['text'].append(texts[i])\n",
        "    dict_text_to_author['label'].append(labels[i])\n",
        "\n",
        "  with open(dir_data + f\"/{model}_generated_texts.json\", 'w+') as fd:\n",
        "    json.dump(dict_text_to_author, fd)"
      ],
      "metadata": {
        "id": "O-H1aIdtYteL"
      },
      "execution_count": null,
      "outputs": []
    },
    {
      "cell_type": "code",
      "source": [
        "save_generated_texts_and_labels(generated_texts, author_preds,model = 'ft_mistral')"
      ],
      "metadata": {
        "id": "_Ew8r_kMY1Op"
      },
      "execution_count": null,
      "outputs": []
    }
  ],
  "metadata": {
    "kernelspec": {
      "display_name": "Python 3",
      "language": "python",
      "name": "python3"
    },
    "language_info": {
      "codemirror_mode": {
        "name": "ipython",
        "version": 3
      },
      "file_extension": ".py",
      "mimetype": "text/x-python",
      "name": "python",
      "nbconvert_exporter": "python",
      "pygments_lexer": "ipython3",
      "version": "3.10.4"
    },
    "colab": {
      "provenance": [],
      "include_colab_link": true
    }
  },
  "nbformat": 4,
  "nbformat_minor": 0
}