{
  "cells": [
    {
      "cell_type": "markdown",
      "source": [
        "## Generation of a dataset of text from Mistral7B model (base model) for classifier training"
      ],
      "metadata": {
        "id": "SfUciRtbJY3H"
      }
    },
    {
      "cell_type": "code",
      "execution_count": null,
      "metadata": {
        "id": "6W-9kSlwJQjN",
        "outputId": "e4d1004c-4e3a-452d-b510-e1d506bca404"
      },
      "outputs": [
        {
          "name": "stdout",
          "output_type": "stream",
          "text": [
            "Creation of dataset for clf training\n"
          ]
        }
      ],
      "source": [
        "from google.colab import drive\n",
        "drive.mount('/content/drive')"
      ]
    },
    {
      "cell_type": "code",
      "source": [
        "!pip install -U simpletransformers\n",
        "!pip install -q -U bitsandbytes\n",
        "!pip install -q -U git+https://github.com/huggingface/transformers.git\n",
        "!pip install -q -U git+https://github.com/huggingface/peft.git\n",
        "!pip install -q -U git+https://github.com/huggingface/accelerate.git\n",
        "!pip install -q trl xformers wandb datasets einops gradio sentencepiece"
      ],
      "metadata": {
        "id": "rHCzDrflJqrh"
      },
      "execution_count": null,
      "outputs": []
    },
    {
      "cell_type": "code",
      "source": [
        "import torch\n",
        "import simpletransformers\n",
        "import transformers\n",
        "from transformers import AutoModelForCausalLM, AutoTokenizer, BitsAndBytesConfig,HfArgumentParser,TrainingArguments,pipeline, logging, TextStreamer\n",
        "from peft import LoraConfig, PeftModel, prepare_model_for_kbit_training, get_peft_model\n",
        "import os, wandb, platform, gradio, warnings\n",
        "from datasets import load_dataset\n",
        "from torch.utils.data import DataLoader, Dataset\n",
        "from trl import SFTTrainer\n",
        "from huggingface_hub import notebook_login\n",
        "import json\n",
        "from tqdm import tqdm"
      ],
      "metadata": {
        "id": "7kQBCW1UJuCm"
      },
      "execution_count": null,
      "outputs": []
    },
    {
      "cell_type": "code",
      "source": [
        "# data and models paths\n",
        "dir_root = './drive/MyDrive/DL-ENS'\n",
        "dir_data = f'{dir_root}/dataset'\n",
        "list_to_generate_path = f'{dir_data}/story_prompts_2.txt'"
      ],
      "metadata": {
        "id": "-5axxiNgJyU1"
      },
      "execution_count": null,
      "outputs": []
    },
    {
      "cell_type": "code",
      "source": [
        "model_name = \"mistralai/Mistral-7B-Instruct-v0.1\""
      ],
      "metadata": {
        "id": "_70GsfuoJ6eL"
      },
      "execution_count": null,
      "outputs": []
    },
    {
      "cell_type": "code",
      "source": [
        "# Load base model(Mistral 7B)\n",
        "bnb_config = BitsAndBytesConfig(\n",
        "    load_in_4bit= True,\n",
        "    bnb_4bit_quant_type= \"nf4\",\n",
        "    bnb_4bit_compute_dtype= torch.bfloat16,\n",
        "    bnb_4bit_use_double_quant= False,\n",
        ")\n",
        "model = AutoModelForCausalLM.from_pretrained(\n",
        "   model_name,\n",
        "    quantization_config=bnb_config,\n",
        "    device_map={\"\": 0}\n",
        ")"
      ],
      "metadata": {
        "id": "8DBC3K6MJ-aA"
      },
      "execution_count": null,
      "outputs": []
    },
    {
      "cell_type": "code",
      "source": [
        "# Load tokenizer\n",
        "tokenizer = AutoTokenizer.from_pretrained(model_name, trust_remote_code=True)\n",
        "tokenizer.padding_side = 'left'\n",
        "tokenizer.pad_token = tokenizer.eos_token\n",
        "tokenizer.add_eos_token = True\n",
        "tokenizer.add_bos_token, tokenizer.add_eos_token"
      ],
      "metadata": {
        "id": "8xNRvNWQKESN"
      },
      "execution_count": null,
      "outputs": []
    },
    {
      "cell_type": "code",
      "source": [
        "# function to tokenize the input in the expected form of the prompt\n",
        "def tokenize(tokenizer, text):\n",
        "  return tokenizer(f\"<s>[INST]This are the first lines of a work of fiction. Continue it. {text} [/INST]\", return_tensors = \"pt\", add_special_tokens = False)"
      ],
      "metadata": {
        "id": "_XCwJdMdKH5p"
      },
      "execution_count": null,
      "outputs": []
    },
    {
      "cell_type": "code",
      "source": [
        "# function for texts generation\n",
        "def generate_texts(model, tokenizer, texts):\n",
        "  device = torch.device(\"cuda:0\" if torch.cuda.is_available() else \"cpu\")\n",
        "\n",
        "  generated_texts = []\n",
        "  for input in tqdm(texts):\n",
        "    tokens = tokenize(tokenizer, input)\n",
        "    model_inputs = tokens.to(device)\n",
        "    generated_ids = model.generate(**model_inputs, max_new_tokens=500, do_sample=True)\n",
        "    decoded = tokenizer.batch_decode(generated_ids)\n",
        "    generated_texts.extend(decoded)\n",
        "    del model_inputs\n",
        "    del decoded\n",
        "    del generated_ids\n",
        "  return generated_texts"
      ],
      "metadata": {
        "id": "GkI6x5clKOrj"
      },
      "execution_count": null,
      "outputs": []
    },
    {
      "cell_type": "code",
      "source": [
        "texts = []\n",
        "with open(list_to_generate_path, 'r+', encoding='utf-8') as fd:\n",
        "  texts = fd.readlines()\n",
        "texts = [text[:-1] for text in texts]"
      ],
      "metadata": {
        "id": "RVi0KlamKbIZ"
      },
      "execution_count": null,
      "outputs": []
    },
    {
      "cell_type": "code",
      "source": [
        "generated_texts = generate_texts(model, tokenizer, texts)"
      ],
      "metadata": {
        "id": "3esaYlqjKgOG"
      },
      "execution_count": null,
      "outputs": []
    },
    {
      "cell_type": "code",
      "source": [
        "# function to save the results\n",
        "def save_generated_texts(texts):\n",
        "  dict_generated_texts = {'texts': []}\n",
        "\n",
        "  for i in range(len(texts)):\n",
        "    dict_generated_texts['texts'].append(texts[i])\n",
        "\n",
        "  with open(dir_data + f\"/dataset_mistral7B_gen_texts.json\", 'w+') as fd:\n",
        "    json.dump(dict_generated_texts, fd)"
      ],
      "metadata": {
        "id": "G2VF1cSKKlZW"
      },
      "execution_count": null,
      "outputs": []
    }
  ],
  "metadata": {
    "kernelspec": {
      "display_name": "Python 3",
      "language": "python",
      "name": "python3"
    },
    "language_info": {
      "codemirror_mode": {
        "name": "ipython",
        "version": 3
      },
      "file_extension": ".py",
      "mimetype": "text/x-python",
      "name": "python",
      "nbconvert_exporter": "python",
      "pygments_lexer": "ipython3",
      "version": "3.10.4"
    },
    "colab": {
      "provenance": []
    }
  },
  "nbformat": 4,
  "nbformat_minor": 0
}