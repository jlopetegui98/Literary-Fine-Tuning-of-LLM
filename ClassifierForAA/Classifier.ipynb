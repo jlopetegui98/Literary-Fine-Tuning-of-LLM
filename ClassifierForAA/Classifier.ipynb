{
 "cells": [
  {
   "cell_type": "code",
   "execution_count": null,
   "metadata": {},
   "outputs": [],
   "source": [
    "from torch import nn\n",
    "from torch.transforms import DistilBertTokenizer, DistilBertPretrainedModel\n",
    "from torch.utils.data import DataLoader, Dataset\n",
    "from torch import datasests"
   ]
  }
 ],
 "metadata": {
  "language_info": {
   "name": "python"
  }
 },
 "nbformat": 4,
 "nbformat_minor": 2
}
